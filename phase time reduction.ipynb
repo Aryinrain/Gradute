{
 "cells": [
  {
   "cell_type": "code",
   "execution_count": 1,
   "id": "022ea396",
   "metadata": {},
   "outputs": [],
   "source": [
    "import pandas as pd"
   ]
  },
  {
   "cell_type": "code",
   "execution_count": 2,
   "id": "f661d5d8",
   "metadata": {},
   "outputs": [],
   "source": [
    "df_line_all = pd.read_csv(\"./df_line_all_20230317.csv\",index_col = 0)\n",
    "#Select the required information from the information summary table\n",
    "df_line = df_line_all.loc[:,df_line_all.columns.tolist()[0:42]+df_line_all.columns.tolist()[64:78]]"
   ]
  },
  {
   "cell_type": "code",
   "execution_count": 6,
   "id": "7ce4f032",
   "metadata": {},
   "outputs": [
    {
     "data": {
      "text/plain": [
       "[['HC', 8080126853.437977],\n",
       " ['CO', 177547565879.89215],\n",
       " ['NOx', 302030276473.4495],\n",
       " ['SO2', 23098104899.91732],\n",
       " ['nvPM', 990259244.125932],\n",
       " ['CO2', 87160641841837.45]]"
      ]
     },
     "execution_count": 6,
     "metadata": {},
     "output_type": "execute_result"
    }
   ],
   "source": [
    "def cu_poltim(df,listtim = [19,0.7,2.2,4,7],Cruise=0):\n",
    "    \n",
    "    df_base = df\n",
    "    \n",
    "    #Build input (common name) - query (EEDB) mapping\n",
    "    list_pol = [\"HC\",\"CO\",\"NOx\",\"SO2\",\"nvPM\",\"CO2\",\"nvPM number\"]\n",
    "    list_stage = [\"Taxi-off\",\"Take-off\",\"Climb-out\",\"Cruise\",\"Approach\",\"Taxi-in\"]\n",
    "    list_pol_c = [\"HC\",\"CO\",\"NOx\",\"SOx\",\"nvPM EImass\",\"CO2\",\"nvPM EInum\"]\n",
    "    list_stage_c = [\"Idle\",\"T/O\",\"C/O\",\"Cruise\",\"App\",\"Idle\"]\n",
    "    df_c = pd.Series(list_pol_c+list_stage_c,index = list_pol+list_stage)\n",
    "    #Classification of pollutants\n",
    "    list1 = [\"HC\",\"CO\",\"NOx\"]\n",
    "    list2 = [\"SO2\"]\n",
    "    list3 = [\"nvPM\"]\n",
    "    list4 = [\"nvPM number\"]\n",
    "    list5 = [\"CO2\"]\n",
    "    #Time (other than cruise)\n",
    "    df_base[\"Taxi-off\"+\" TIM\"] = listtim[0]\n",
    "    df_base[\"Take-off\"+\" TIM\"] = listtim[1]\n",
    "    df_base[\"Climb-out\"+\" TIM\"] = listtim[2]\n",
    "    df_base[\"Approach\"+\" TIM\"] = listtim[3]\n",
    "    df_base[\"Taxi-in\"+\" TIM\"] = listtim[4]\n",
    "    #Cruise time reduction function\n",
    "    def yy(x):\n",
    "        if x>=Cruise:\n",
    "            x=x-Cruise\n",
    "        else:\n",
    "            x=x/Cruise\n",
    "        return x\n",
    "    #Cruise time\n",
    "    df_base[\"Cruise TIM\"] = df_base[\"Cruise TIM\"].astype(int).apply(lambda x:yy(x))\n",
    "    \n",
    "    #FF&EF\n",
    "    #pollutions\n",
    "    for pol in list_pol:\n",
    "        #phases\n",
    "        for stage in list_stage:\n",
    "            if pol in list1:\n",
    "                ser_ei = df_base[df_c[pol]+\" EI \"+df_c[stage]+\" (g/kg)\"]\n",
    "            if pol in list2:\n",
    "                ser_ei = df_base[\"Fuel Sulphur Content (ppm by mass)\"]/1000*2*0.967#ppm(mg/kg)-g/kg\n",
    "            if pol in list3:\n",
    "                ser_ei = df_base[df_c[pol]+\" \"+df_c[stage]+\" (mg/kg)\"]/1000#g/kg\n",
    "            if pol in list4:\n",
    "                ser_ei = df_base[df_c[pol]+\" \"+df_c[stage]+\" (#/kg)\"]#数量\n",
    "            if pol in list5:\n",
    "                ser_ei = 3155\n",
    "            #volume\n",
    "            nofa = df_base[\"航班量\"]\n",
    "            #phase time\n",
    "            tim = df_base[stage+\" TIM\"]\n",
    "            #number of engine\n",
    "            enn = df_base[\"Engine number\"]\n",
    "            #Fuel Flow\n",
    "            fuel = df_base[\"Fuel Flow \"+df_c[stage]+\" (kg/sec)\"]\n",
    "            #Calculation (by line, phase * pollutant), flight volume * flight time (min) * fuel flow rate (kg/sec) * engine number * emission index (g/kg)\n",
    "            #nvPM number in \"#\", other units in \"g\"\n",
    "            if pol == \"nvPM number\":\n",
    "                df_base[pol+\" \"+stage] = nofa*tim*60*fuel*enn*ser_ei\n",
    "            else:\n",
    "                df_base[pol+\" \"+stage+\" (g)\"] = nofa*tim*60*fuel*enn*ser_ei\n",
    "#            print(pol,stage,\"finished\")\n",
    "# Consolidation phases by pollution\n",
    "    for pol in list_pol:\n",
    "        if pol == \"nvPM number\":\n",
    "            df_base[pol] = df_base[pol+\" Taxi-off\"]+df_base[pol+\" Take-off\"]+df_base[pol+\" Climb-out\"]+df_base[pol+\" Cruise\"]+df_base[pol+\" Approach\"]+df_base[pol+\" Taxi-in\"]\n",
    "        else:\n",
    "            df_base[pol] = df_base[pol+\" Taxi-off\"+\" (g)\"]+df_base[pol+\" Take-off\"+\" (g)\"]+df_base[pol+\" Climb-out\"+\" (g)\"]+df_base[pol+\" Cruise\"+\" (g)\"]+df_base[pol+\" Approach\"+\" (g)\"]+df_base[pol+\" Taxi-in\"+\" (g)\"]\n",
    "    list_pol0 = [\"HC\",\"CO\",\"NOx\",\"SO2\",\"nvPM\",\"CO2\"]\n",
    "    #Output\n",
    "    return [[pol,df_base[pol].sum()] for pol in list_pol0]\n",
    "cu_poltim(df_line,[19,0.7,2.2,4,7])"
   ]
  },
  {
   "cell_type": "code",
   "execution_count": null,
   "id": "c07b7997",
   "metadata": {},
   "outputs": [],
   "source": []
  }
 ],
 "metadata": {
  "kernelspec": {
   "display_name": "Python 3 (ipykernel)",
   "language": "python",
   "name": "python3"
  },
  "language_info": {
   "codemirror_mode": {
    "name": "ipython",
    "version": 3
   },
   "file_extension": ".py",
   "mimetype": "text/x-python",
   "name": "python",
   "nbconvert_exporter": "python",
   "pygments_lexer": "ipython3",
   "version": "3.8.8"
  }
 },
 "nbformat": 4,
 "nbformat_minor": 5
}
